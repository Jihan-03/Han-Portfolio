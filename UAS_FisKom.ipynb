{
  "nbformat": 4,
  "nbformat_minor": 0,
  "metadata": {
    "colab": {
      "provenance": [],
      "authorship_tag": "ABX9TyO6rMjloykTsDdHNHJWaCEj",
      "include_colab_link": true
    },
    "kernelspec": {
      "name": "python3",
      "display_name": "Python 3"
    },
    "language_info": {
      "name": "python"
    }
  },
  "cells": [
    {
      "cell_type": "markdown",
      "metadata": {
        "id": "view-in-github",
        "colab_type": "text"
      },
      "source": [
        "<a href=\"https://colab.research.google.com/github/jihannurrahma/Han-Portfolio/blob/College-Project/UAS_FisKom.ipynb\" target=\"_parent\"><img src=\"https://colab.research.google.com/assets/colab-badge.svg\" alt=\"Open In Colab\"/></a>"
      ]
    },
    {
      "cell_type": "code",
      "execution_count": null,
      "metadata": {
        "id": "G5nsaDG5vo3A",
        "colab": {
          "base_uri": "https://localhost:8080/"
        },
        "outputId": "21861e9a-f302-4537-ded2-22fde3fe88a6"
      },
      "outputs": [
        {
          "output_type": "stream",
          "name": "stdout",
          "text": [
            "\n",
            "UAS Fisika 2021\n",
            "'Kelompok 1'\n",
            "1 Jihan Nurrahma Wardani (21030224028)\n",
            "2 Shilvy Ninda Anggraini (21030224050)\n",
            "\n"
          ]
        }
      ],
      "source": [
        "print('''\n",
        "UAS Fisika 2021\n",
        "'Kelompok 1'\n",
        "1 Jihan Nurrahma Wardani (21030224028)\n",
        "2 Shilvy Ninda Anggraini (21030224050)\n",
        "''')\n",
        "\n",
        "# Import NumPy Library\n",
        "import numpy as np\n",
        "import sys\n",
        "\n",
        "n = int(input('Masukkan jumlah variabel yang dicari: '))\n",
        "a = np.zeros((n,n+1))\n",
        "x = np.zeros(n)\\\n",
        "\n",
        "# Membaca Koefisien Matriks\n",
        "print('Masukkan koefisien matriks (variabel persamaan:')\n",
        "for i in range(n):\n",
        "    for j in range(n+1):\n",
        "        a[i][j] = float(input( 'a['+str(i)+']['+ str(j)+']='))\n",
        "\n",
        "# Mengaplikasikan Eliminasi Gauss Jordan\n",
        "for i in range(n):\n",
        "    if a[i][i] == 0.0:\n",
        "        sys.exit('Divide by zero detected!')\n",
        "\n",
        "    for j in range(n):\n",
        "        if i != j:\n",
        "            ratio = a[j][i]/a[i][i]\n",
        "\n",
        "            for k in range(n+1):\n",
        "                a[j][k] = a[j][k] - ratio * a[i][k]\n",
        "\n",
        "# Mendapatkan Solusi\n",
        "for i in range(n):\n",
        "    x[i] = a[i][n]/a[i][i]\n",
        "\n",
        "# Menampilkan Solusi\n",
        "print('\\nRequired solution is: ')\n",
        "for i in range(n):\n",
        "    print('X%d = %0.2f' %(i,x[i]), end = '\\t')\n"
      ]
    }
  ]
}