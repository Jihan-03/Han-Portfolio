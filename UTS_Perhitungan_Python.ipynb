{
  "nbformat": 4,
  "nbformat_minor": 0,
  "metadata": {
    "colab": {
      "provenance": [],
      "authorship_tag": "ABX9TyOrhruyyP/4PfytvwjCCDi/",
      "include_colab_link": true
    },
    "kernelspec": {
      "name": "python3",
      "display_name": "Python 3"
    },
    "language_info": {
      "name": "python"
    }
  },
  "cells": [
    {
      "cell_type": "markdown",
      "metadata": {
        "id": "view-in-github",
        "colab_type": "text"
      },
      "source": [
        "<a href=\"https://colab.research.google.com/github/jihannurrahma/Han-Portfolio/blob/College-Project/UTS_Perhitungan_Python.ipynb\" target=\"_parent\"><img src=\"https://colab.research.google.com/assets/colab-badge.svg\" alt=\"Open In Colab\"/></a>"
      ]
    },
    {
      "cell_type": "code",
      "execution_count": null,
      "metadata": {
        "id": "ziVGwjbnMipM"
      },
      "outputs": [],
      "source": [
        "print('Tugas Fiskom 4 fisika 2021 D')\n",
        "print('Kelompok 1')\n",
        "print('1 karlita dewi------------------------------21030224003')\n",
        "print('2 adinda rahma adzdza riyatunnisa-----------21030224010')\n",
        "print('3 laili arin ramadhani----------------------21030224017')\n",
        "print('4 jihan nurrahma wardani--------------------21030224028')\n",
        "print('5 shilvy ninda anggraini--------------------21030224050')\n",
        "print('---------------------------------------------------------------------------')\n",
        "\n",
        "#Defining Function\n",
        "def f(x) :\n",
        "    return x**3+5*x-1\n",
        "\n",
        "#Implementing Bisection Method\n",
        "def bisection(x0,x1,e):\n",
        "    step = 1\n",
        "    print('\\n\\n*** BISECTION METHOD IMPLEMENTATION ***')\n",
        "    condition = True\n",
        "    while condition:\n",
        "        x2 = (x0 + x1)/2\n",
        "        print('Iteration-%d, x2 = %0.6f and f(x2) = %0.6f' % (step, x2, f(x2)))\n",
        "        if f(x2) < 0:\n",
        "            x0 = x2\n",
        "        else:\n",
        "            x1 = x2\n",
        "\n",
        "        step = step + 1\n",
        "        condition = abs(f(x2)) > e\n",
        "\n",
        "    print('\\nRequired Rood is : %0.8f' % x2)\n",
        "\n",
        "#Input Section\n",
        "x0 = input('First Guess: ')\n",
        "x1 = input('Second Guess: ')\n",
        "e = input('Tolerable Error: ')\n",
        "\n",
        "#Converting input to float\n",
        "x0 = float(x0)\n",
        "x1 = float(x1)\n",
        "e = float(e)\n",
        "\n",
        "#Checking Correctness of initial guess values and bisecting\n",
        "if f(x0) * f(x1) > 0.0:\n",
        "    print('Given guess values do not bracket the root.')\n",
        "    print('Try Again with different guess values.')\n",
        "else:\n",
        "    bisection(x0,x1,e)\n"
      ]
    },
    {
      "cell_type": "code",
      "source": [
        "print('Tugas Fiskom 4 fisika 2021 D')\n",
        "print('Kelompok 1')\n",
        "print('1 karlita dewi------------------------------21030224003')\n",
        "print('2 adinda rahma adzdza riyatunnisa-----------21030224010')\n",
        "print('3 laili arin ramadhani----------------------21030224017')\n",
        "print('4 jihan nurrahma wardani--------------------21030224028')\n",
        "print('5 shilvy ninda anggraini--------------------21030224050')\n",
        "print('---------------------------------------------------------------------------')\n",
        "\n",
        "import numpy as np\n",
        "import matplotlib.pyplot as plt\n",
        "\n",
        "x=np.arange(-1,1,0.100)\n",
        "y=lambda x: x**3+5*x-1\n",
        "plt.plot(x,y(x))\n",
        "label='x**3+5*x-1'\n",
        "plt.title('Graph of x**3+5*x-1')\n",
        "plt.grid()\n",
        "plt.show()\n"
      ],
      "metadata": {
        "id": "Tt3p35IuMjo7"
      },
      "execution_count": null,
      "outputs": []
    }
  ]
}