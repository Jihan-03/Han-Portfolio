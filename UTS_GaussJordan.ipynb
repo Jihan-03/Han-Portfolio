{
  "nbformat": 4,
  "nbformat_minor": 0,
  "metadata": {
    "colab": {
      "provenance": [],
      "authorship_tag": "ABX9TyOGerrAcGliavtDujPYbkVG",
      "include_colab_link": true
    },
    "kernelspec": {
      "name": "python3",
      "display_name": "Python 3"
    },
    "language_info": {
      "name": "python"
    }
  },
  "cells": [
    {
      "cell_type": "markdown",
      "metadata": {
        "id": "view-in-github",
        "colab_type": "text"
      },
      "source": [
        "<a href=\"https://colab.research.google.com/github/jihannurrahma/Han-Portfolio/blob/College-Project/UTS_GaussJordan.ipynb\" target=\"_parent\"><img src=\"https://colab.research.google.com/assets/colab-badge.svg\" alt=\"Open In Colab\"/></a>"
      ]
    },
    {
      "cell_type": "code",
      "execution_count": null,
      "metadata": {
        "id": "UfiVF2ZML7Hk"
      },
      "outputs": [],
      "source": [
        "print('UTS fisika 2021 D')\n",
        "print('Kelompok 1')\n",
        "print('1 karlita dewi------------------------------21030224003')\n",
        "print('2 adinda rahma adzdza riyatunnisa-----------21030224010')\n",
        "print('3 laili arin ramadhani----------------------21030224017')\n",
        "print('4 jihan nurrahma wardani--------------------21030224028')\n",
        "print('5 shilvy ninda anggraini--------------------21030224050')\n",
        "print('-------------------------------------------------------')\n",
        "\n",
        "import numpy as np\n",
        "import sys\n",
        "\n",
        "n = int(input('masukkan jumlah variabel yang dicari: '))\n",
        "a = np.zeros((n,n+1))\n",
        "x = np.zeros(n)\n",
        "\n",
        "print('masukkan koefisien matriks (variabel persamaan)')\n",
        "for i in range (n):\n",
        "    for j in range (n+1):\n",
        "        a[i][j] = float(input(( 'a['+str(i)+']['+ str(j)+']=')))\n",
        "\n",
        "for i in range(n):\n",
        "    if a[i][i] == 0.0:\n",
        "        sys.exit('Divide by zero detected1')\n",
        "\n",
        "    for j in range(n):\n",
        "        if i != j:\n",
        "            ratio = a[j][i]/a[i][i]\n",
        "            for k in range(n+1):\n",
        "                a[j][k] = a[j][k] - ratio * a[i][k]\n",
        "\n",
        "for i in range(n):\n",
        "    x[i] = a[i][n]/a[i][i]\n",
        "\n",
        "print('\\nRequired solution is: ')\n",
        "for i in range(n):\n",
        "    print('X%d = %0.2f' %(i,x[i]), end = '\\t')\n"
      ]
    }
  ]
}