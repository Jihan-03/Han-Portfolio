{
  "nbformat": 4,
  "nbformat_minor": 0,
  "metadata": {
    "colab": {
      "provenance": [],
      "authorship_tag": "ABX9TyMw6y5ZEJlfBxpAV4dS6Mii",
      "include_colab_link": true
    },
    "kernelspec": {
      "name": "python3",
      "display_name": "Python 3"
    },
    "language_info": {
      "name": "python"
    }
  },
  "cells": [
    {
      "cell_type": "markdown",
      "metadata": {
        "id": "view-in-github",
        "colab_type": "text"
      },
      "source": [
        "<a href=\"https://colab.research.google.com/github/jihannurrahma/Han-Portfolio/blob/College-Project/UTS_Cramer.ipynb\" target=\"_parent\"><img src=\"https://colab.research.google.com/assets/colab-badge.svg\" alt=\"Open In Colab\"/></a>"
      ]
    },
    {
      "cell_type": "code",
      "execution_count": null,
      "metadata": {
        "id": "WMWxP1odLTbb"
      },
      "outputs": [],
      "source": [
        "print('UTS fisika 2021 D')\n",
        "print('Kelompok 1')\n",
        "print('1 karlita dewi------------------------------21030224003')\n",
        "print('2 adinda rahma adzdza riyatunnisa-----------21030224010')\n",
        "print('3 laili arin ramadhani----------------------21030224017')\n",
        "print('4 jihan nurrahma wardani--------------------21030224028')\n",
        "print('5 shilvy ninda anggraini--------------------21030224050')\n",
        "print('-------------------------------------------------------')\n",
        "\n",
        "import numpy as np\n",
        "\n",
        "A = np.array([[-2, 3, 1],\n",
        "              [3, 4, -5],\n",
        "              [1, -2, 1]])\n",
        "B = np.array([[9],\n",
        "              [0],\n",
        "              [-4]])\n",
        "det_A = np.linalg.det(A)\n",
        "\n",
        "n = len(A)\n",
        "x=np.zeros((n, 1))\n",
        "for i in range(0, n):\n",
        "    for j in range(0, n):\n",
        "        A[j, i] =B[j][0]\n",
        "    print(\"\\nMatriks A() adalah\" .format(i+1))\n",
        "    print(A)\n",
        "    det_Ai = np.linalg.det(A)\n",
        "    x[i][0] = det_Ai /det_A\n",
        "    A = np.array([[-2, 3, 1],\n",
        "                  [3, 4, -5],\n",
        "                  [1, -2, 1]])\n",
        "print(\"\\nJadi, solusi dari sistem persamaan adalah\")\n",
        "print(x)\n",
        "\n"
      ]
    }
  ]
}