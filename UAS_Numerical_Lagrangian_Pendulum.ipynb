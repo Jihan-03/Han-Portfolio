{
  "nbformat": 4,
  "nbformat_minor": 0,
  "metadata": {
    "colab": {
      "provenance": [],
      "authorship_tag": "ABX9TyMyoq4J1aTTM5S477cXVYmF",
      "include_colab_link": true
    },
    "kernelspec": {
      "name": "python3",
      "display_name": "Python 3"
    },
    "language_info": {
      "name": "python"
    }
  },
  "cells": [
    {
      "cell_type": "markdown",
      "metadata": {
        "id": "view-in-github",
        "colab_type": "text"
      },
      "source": [
        "<a href=\"https://colab.research.google.com/github/jihannurrahma/Han-Portfolio/blob/College-Project/UAS_Numerical_Lagrangian_Pendulum.ipynb\" target=\"_parent\"><img src=\"https://colab.research.google.com/assets/colab-badge.svg\" alt=\"Open In Colab\"/></a>"
      ]
    },
    {
      "cell_type": "code",
      "execution_count": null,
      "metadata": {
        "id": "jSSFBnkXvPpy"
      },
      "outputs": [],
      "source": [
        "# Kelompok 2 Pemrograman Terstruktur\n",
        "# Ananda Rossy Kurniawan (21030224033) FRD 2021\n",
        "# Jihan Nurrahma Wardani (21030224028) FRD 2021\n",
        "# Shela Ilmiyah (20030224015) FRD 2020\n",
        "# Nafisah Nur Laila (20030224037) FRE 2020\n",
        "# Lenny Intan Martila (20030224044) FRE 2020\n",
        "# Lathifah Dika Mauludi (20030224051) FRE 2020\n",
        "# Safira Adara Khairunnisa (20030224052)\n",
        "# Riski Ramadani (20030224056) FRE 2020\n",
        "# Nainunis Mutawakkillah (20030224059) FRE 2020\n",
        "\n",
        "# Librari\n",
        "from matplotlib import animation\n",
        "from scipy.integrate import odeint\n",
        "import matplotlib.pyplot as plt\n",
        "import numpy as np\n",
        "import sympy as sp\n",
        "\n",
        "# Inisialisasi dan Deklarasi\n",
        "rnd, exp, pi, cos, sin = np.round, np.exp, np.pi, np.cos, np.sin\n",
        "theta0, length, time_step, total_time = pi / 4, 2, 0.01, 5\n",
        "\n",
        "# Penyelesaian Numerik dan Simulasi\n",
        "def pendulum(theta, t, length):\n",
        "    g = 9.81  # Percepatan Gravitasi Bumi\n",
        "    dtheta_dt = theta[1]\n",
        "    d2theta_dt2 = -g / length * sin(theta[0])\n",
        "    return [dtheta_dt, d2theta_dt2]\n",
        "\n",
        "t = np.arange(0, total_time, time_step) # Array untuk waktu\n",
        "sol = odeint(pendulum, [theta0, 0], t, args=(length,)) # Solusi Numerik ODEInt\n",
        "\n",
        "# Data Sudut dan Kecepatan Sudut dari Solusi Numerik\n",
        "theta = sol[:, 0]\n",
        "omega = sol[:, 1]\n",
        "\n",
        "# Kedudukan Pendulum pada Koordinat X dan Y\n",
        "x = length * sin(theta)\n",
        "y = -length * cos(theta)\n",
        "\n",
        "# Menghitung Periode\n",
        "for i in range(1, len(theta)):\n",
        "    if theta[i] >= 0 and theta[i-1] < 0:\n",
        "        t_up = t[i]\n",
        "    elif theta[i] <= 0 and theta[i-1] > 0:\n",
        "        t_down = t[i]\n",
        "\n",
        "period = 2 * (t_down - t_up) # 2πdt/dθ\n",
        "print(\"Periode: \", period)\n",
        "\n",
        "# Visualisasi Kinematika Pendulum\n",
        "plt.plot(t, theta, label = 'Sudut (rad)')\n",
        "plt.plot(t, omega, label = 'Kecepatan Sudut (rad/s)')\n",
        "plt.xlabel('Waktu (s)')\n",
        "plt.ylabel('Sudut (rad)')\n",
        "plt.title('Kinematika Pendulum')\n",
        "plt.grid(True)\n",
        "plt.legend(loc = \"best\")\n",
        "plt.show()\n",
        "\n",
        "# Trajektori Pendulum\n",
        "plt.plot(x, y)\n",
        "plt.xlabel('Posisi X')\n",
        "plt.ylabel('Posisi Y')\n",
        "plt.title('Trajektori Pendulum')\n",
        "plt.axis('equal')\n",
        "plt.show()\n",
        "\n",
        "# Animasi Trajektori\n",
        "print(\"Animasi Trajektori\")\n",
        "\n",
        "def animate_func(i):\n",
        "    ax.clear()\n",
        "    ax.scatter(x[i], y[i])\n",
        "    ax.plot([x[i], 0], [y[i], 0])\n",
        "    ax.axis('equal')\n",
        "    ax.set_title('Trajektori Pendulum\\nWaktu = ' + str(rnd(t[i], decimals = 2)) + ' Sekon')\n",
        "    ax.set_xlim([np.min(x) - 1, np.max(x) + 1])\n",
        "    ax.set_ylim([np.min(y) - 1, 1])\n",
        "    ax.set_xlabel('$X$')\n",
        "    ax.set_ylabel('$Y$')\n",
        "\n",
        "fig = plt.figure()\n",
        "ax = plt.axes()\n",
        "animate = animation.FuncAnimation(fig, animate_func, interval = 10, frames = len(theta))\n",
        "plt.show()"
      ]
    }
  ]
}